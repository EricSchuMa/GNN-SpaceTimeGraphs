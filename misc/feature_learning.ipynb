{
 "cells": [
  {
   "cell_type": "code",
   "execution_count": 3,
   "metadata": {},
   "outputs": [],
   "source": [
    "import torch\n",
    "from torch.autograd import Variable\n",
    "import torch.nn.functional as F\n",
    "import torch.nn as nn\n",
    "import collections\n",
    "import time\n",
    "import numpy as np\n",
    "\n",
    "import sys\n",
    "\n",
    "import os"
   ]
  },
  {
   "cell_type": "markdown",
   "metadata": {},
   "source": [
    "# Learning Graph Structures\n",
    "Consider the following Structure Learning Convolution (Zhang et al. 2020):\n",
    "\n",
    "\\begin{equation}\n",
    "  y_i=f\\left(\\sum_{e_{i,j}\\in\\varepsilon}S_{ij}w_jx_j\\right) \\quad (1)\n",
    "\\end{equation}\n",
    "We introduce a learnable graph Structure $S$ which encodes correlations $S_{ij}$ between node $n_i$ and $n_j$ where $S$ is a learnable variable. In $(1)$ $x_j$ is the j-th nodes' embedded feature vector and $y_i$ is the convolved output signal of node $i$. \n",
    "\n",
    "Given a Graph $G=(V,E)$ with signal $X\\in\\mathbb{R}^{N\\times D}$ and adjacency matrix $A$ we can use $(1)$ to define a graph convolutional layer as:\n",
    "\\begin{equation}\n",
    "  \\tilde{A}=D^{-1/2}AD^{-1/2} \\quad (2)\n",
    "\\end{equation}\n",
    "\\begin{equation}\n",
    "  H^{(l+1)}=\\sigma(\\tilde{A}\\circ SH^{(l)}W^{(l)}) \\quad (3)\n",
    "\\end{equation}\n",
    "where $W^{(l)}\\in\\mathbb{R}^{C_{in}\\times C_{out}}$ is a learnable matrix, $C_{in}$ is the number of input chanels, $C_{out}$ is the number of output chanels and $\\circ$ denotes the Hadamard product. Remark that $H^{(0)}=X\\in\\mathbb{R}^{N\\times D}$ is the graph signal of all nodes of the Graph.\n",
    "\n",
    "## Target of the structure learning\n",
    "Consider a signal $X_t$ at time step $t$ and a convolutional neural network as defined by equation $(2)$ with $l$ layers $H^{(1)},...,H^{(l)}$ and associated filters $W^{(1)},...,W^{(l)}$ we try to predict the graphs signal at timestep $t+1$."
   ]
  },
  {
   "cell_type": "code",
   "execution_count": 5,
   "metadata": {},
   "outputs": [],
   "source": [
    "# Load data into a dataset (for time-series preferrably)\n",
    "\n",
    "# Generate a data loader"
   ]
  },
  {
   "cell_type": "code",
   "execution_count": null,
   "outputs": [],
   "source": [
    "import math\n",
    "\n",
    "from torch.nn.modules.module import Module\n",
    "from torch.nn.parameter import Parameter\n",
    "import torch\n",
    "import torch.nn.functional as F\n",
    "\n",
    "# define SLC layer\n",
    "class SLConv(Module):\n",
    "    def __init__(self, in_chanels, out_chanels):\n",
    "        super(SLConv,self).__init__()\n",
    "        self.in_chanels = in_chanels\n",
    "        self.out_chanels = out_chanels\n",
    "        self.weight = Parameter(torch.FloatTensor(in_chanels, out_chanels))        \n",
    "        self.reset_parameters()\n",
    "        \n",
    "    def reset_parameters(self):\n",
    "        stdv = 1. / math.sqrt(self.weight.size(1))\n",
    "        self.weight.data.uniform_(-stdv, stdv)\n",
    "        \n",
    "    def forward(self, x, adj, S):\n",
    "        x = torch.mm(x, self.weight) # (N,out_chanels)\n",
    "        weighting = torch.mul(S, adj) # (N,N)\n",
    "        output = torch.mm(weighting,x)\n",
    "        return output\n",
    "    \n",
    "    def __repr__(self):\n",
    "        return self.__class__.__name__ + ' (' \\\n",
    "               + str(self.in_chanels) + ' -> ' \\\n",
    "               + str(self.out_chanels) + ')'\n",
    "\n",
    "# model defitinition\n",
    "class GCN(nn.Module):\n",
    "    def __init__(self, nfeat, nhid, nclass, N):\n",
    "        super(GCN, self).__init__()\n",
    "\n",
    "        self.gc1 = SLConv(nfeat, nhid)\n",
    "        self.gc2 = SLConv(nhid, nclass)\n",
    "        \n",
    "        self.S = Parameter(torch.FloatTensor(N,N)).data.uniform_(-1.,1.)\n",
    "\n",
    "    def forward(self, x, adj):\n",
    "        x = F.relu(self.gc1(x, adj, self.S))\n",
    "        x = self.gc2(x, adj, self.S)\n",
    "        return x"
   ],
   "metadata": {
    "collapsed": false,
    "pycharm": {
     "name": "#%%\n"
    }
   }
  },
  {
   "cell_type": "code",
   "execution_count": null,
   "outputs": [],
   "source": [
    "# 3 x 3 Matrix\n",
    "adj = torch.tensor([[1,0,0], [1,1,0], [0,1,1]])\n",
    "S = torch.rand(3,3)\n",
    "in_chanels = 1\n",
    "out_chanels = 1\n",
    "X = torch.rand(3,1)\n",
    "\n",
    "\n",
    "model = GCN(1, 1, 1, 3)\n",
    "model.forward(X,adj)"
   ],
   "metadata": {
    "collapsed": false,
    "pycharm": {
     "name": "#%%\n"
    }
   }
  },
  {
   "cell_type": "code",
   "execution_count": 36,
   "metadata": {},
   "outputs": [],
   "source": []
  },
  {
   "cell_type": "code",
   "execution_count": 39,
   "metadata": {},
   "outputs": [
    {
     "data": {
      "text/plain": [
       "tensor([[-0.0081],\n",
       "        [-0.0740],\n",
       "        [-0.0450]], grad_fn=<MmBackward>)"
      ]
     },
     "execution_count": 39,
     "metadata": {},
     "output_type": "execute_result"
    }
   ],
   "source": [
    "# 3 x 3 Matrix\n",
    "adj = torch.tensor([[1,0,0], [1,1,0], [0,1,1]])\n",
    "S = torch.rand(3,3)\n",
    "in_chanels = 1\n",
    "out_chanels = 1\n",
    "X = torch.rand(3,1)\n",
    "\n",
    "\n",
    "model = GCN(1, 1, 1, 3)\n",
    "model.forward(X,adj)"
   ]
  },
  {
   "cell_type": "code",
   "execution_count": 6,
   "metadata": {},
   "outputs": [],
   "source": []
  }
 ],
 "metadata": {
  "kernelspec": {
   "display_name": "Python 3",
   "language": "python",
   "name": "python3"
  },
  "language_info": {
   "codemirror_mode": {
    "name": "ipython",
    "version": 3
   },
   "file_extension": ".py",
   "mimetype": "text/x-python",
   "name": "python",
   "nbconvert_exporter": "python",
   "pygments_lexer": "ipython3",
   "version": "3.8.5"
  }
 },
 "nbformat": 4,
 "nbformat_minor": 4
}