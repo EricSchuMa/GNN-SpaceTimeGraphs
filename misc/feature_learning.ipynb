{
 "cells": [
  {
   "cell_type": "code",
   "execution_count": 1,
   "metadata": {},
   "outputs": [],
   "source": [
    "import torch\n",
    "from torch.autograd import Variable\n",
    "import torch.nn.functional as F\n",
    "import torch.nn as nn\n",
    "import collections\n",
    "import time\n",
    "import numpy as np\n",
    "\n",
    "import sys\n",
    "\n",
    "import os"
   ]
  },
  {
   "cell_type": "markdown",
   "metadata": {},
   "source": [
    "# Learning Graph Structures\n",
    "Consider the following Structure Learning Convolution (Zhang et al. 2020):\n",
    "\n",
    "\\begin{equation}\n",
    "  y_i=f\\left(\\sum_{e_{i,j}\\in\\varepsilon}S_{ij}w_jx_j\\right) \\quad (1)\n",
    "\\end{equation}\n",
    "We introduce a learnable graph Structure $S$ which encodes correlations $S_{ij}$ between node $n_i$ and $n_j$ where $S$ is a learnable variable. In $(1)$ $x_j$ is the j-th nodes' embedded feature vector and $y_i$ is the convolved output signal of node $i$. \n",
    "\n",
    "Given a Graph $G=(V,E)$ with signal $X\\in\\mathbb{R}^{N\\times D}$ and adjacency matrix $A$ we can use $(1)$ to define a graph convolutional layer as:\n",
    "\\begin{equation}\n",
    "  \\tilde{A}=D^{-1/2}AD^{-1/2} \\quad (2)\n",
    "\\end{equation}\n",
    "\\begin{equation}\n",
    "  H^{(l+1)}=\\sigma(\\tilde{A}\\circ SH^{(l)}W^{(l)}) \\quad (3)\n",
    "\\end{equation}\n",
    "where $W^{(l)}\\in\\mathbb{R}^{C_{in}\\times C_{out}}$ is a learnable matrix, $C_{in}$ is the number of input chanels, $C_{out}$ is the number of output chanels and $\\circ$ denotes the Hadamard product. Remark that $H^{(0)}=X\\in\\mathbb{R}^{N\\times D}$ is the graph signal of all nodes of the Graph.\n",
    "\n",
    "## Target of the structure learning\n",
    "Consider a signal $X_t$ at time step $t$ and a convolutional neural network as defined by equation $(2)$ with $l$ layers $H^{(1)},...,H^{(l)}$ and associated filters $W^{(1)},...,W^{(l)}$ we try to predict the graphs signal at timestep $t+1$."
   ]
  },
  {
   "cell_type": "code",
   "execution_count": 6,
   "metadata": {},
   "outputs": [],
   "source": [
    "# Load data into a dataset (for time-series preferrably)\n",
    "\n",
    "# Generate a data loader\n",
    "\n",
    "# define model\n",
    "\n",
    "# define a training routine"
   ]
  },
  {
   "cell_type": "code",
   "execution_count": null,
   "metadata": {},
   "outputs": [],
   "source": []
  }
 ],
 "metadata": {
  "kernelspec": {
   "display_name": "Python 3",
   "language": "python",
   "name": "python3"
  },
  "language_info": {
   "codemirror_mode": {
    "name": "ipython",
    "version": 3
   },
   "file_extension": ".py",
   "mimetype": "text/x-python",
   "name": "python",
   "nbconvert_exporter": "python",
   "pygments_lexer": "ipython3",
   "version": "3.8.5"
  }
 },
 "nbformat": 4,
 "nbformat_minor": 4
}